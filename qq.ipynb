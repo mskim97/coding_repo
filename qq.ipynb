{
 "cells": [
  {
   "cell_type": "markdown",
   "id": "14dd487f",
   "metadata": {},
   "source": [
    "# 프로그래밍 기초-자료형(1)"
   ]
  },
  {
   "cell_type": "markdown",
   "id": "04d35443",
   "metadata": {},
   "source": [
    "# 02-1 숫자형"
   ]
  },
  {
   "cell_type": "code",
   "execution_count": 6,
   "id": "163017ff",
   "metadata": {},
   "outputs": [],
   "source": [
    "a = 1"
   ]
  },
  {
   "cell_type": "code",
   "execution_count": 7,
   "id": "a7eadc5f",
   "metadata": {},
   "outputs": [
    {
     "name": "stdout",
     "output_type": "stream",
     "text": [
      "<class 'int'>\n"
     ]
    }
   ],
   "source": [
    "print(type(a))     #int=정수형"
   ]
  },
  {
   "cell_type": "code",
   "execution_count": 8,
   "id": "750fbc86",
   "metadata": {},
   "outputs": [],
   "source": [
    "a = 1.23"
   ]
  },
  {
   "cell_type": "code",
   "execution_count": 9,
   "id": "f794b775",
   "metadata": {},
   "outputs": [
    {
     "name": "stdout",
     "output_type": "stream",
     "text": [
      "<class 'float'>\n"
     ]
    }
   ],
   "source": [
    "print(type(a))     #float=실수형"
   ]
  },
  {
   "cell_type": "markdown",
   "id": "00574ec2",
   "metadata": {},
   "source": [
    "사칙연산"
   ]
  },
  {
   "cell_type": "code",
   "execution_count": 10,
   "id": "2eb3ccb7",
   "metadata": {},
   "outputs": [],
   "source": [
    "a = 3\n",
    "b = 4"
   ]
  },
  {
   "cell_type": "code",
   "execution_count": 11,
   "id": "b35e5bbf",
   "metadata": {},
   "outputs": [
    {
     "name": "stdout",
     "output_type": "stream",
     "text": [
      "12\n"
     ]
    }
   ],
   "source": [
    "print(a*b)  # 곱하기"
   ]
  },
  {
   "cell_type": "code",
   "execution_count": 12,
   "id": "8da4a8ce",
   "metadata": {},
   "outputs": [
    {
     "name": "stdout",
     "output_type": "stream",
     "text": [
      "0.75\n"
     ]
    }
   ],
   "source": [
    "print(a/b)  #나누기"
   ]
  },
  {
   "cell_type": "code",
   "execution_count": null,
   "id": "188a59b4",
   "metadata": {},
   "outputs": [],
   "source": [
    "print(a ** b)  # 제곱"
   ]
  },
  {
   "cell_type": "markdown",
   "id": "d7bcb4f4",
   "metadata": {},
   "source": [
    "# 02-2 문자열 자료형"
   ]
  },
  {
   "cell_type": "code",
   "execution_count": 13,
   "id": "cc1c114c",
   "metadata": {},
   "outputs": [],
   "source": [
    "a = \"Hello world\""
   ]
  },
  {
   "cell_type": "code",
   "execution_count": 14,
   "id": "1ee889ef",
   "metadata": {},
   "outputs": [
    {
     "name": "stdout",
     "output_type": "stream",
     "text": [
      "<class 'str'>\n"
     ]
    }
   ],
   "source": [
    "print(type(a))     # str=문자열 자료형 (string)"
   ]
  },
  {
   "cell_type": "markdown",
   "id": "9891d05b",
   "metadata": {},
   "source": [
    "여러 줄로 이루어져 있는 문자열"
   ]
  },
  {
   "cell_type": "code",
   "execution_count": 15,
   "id": "80422a3b",
   "metadata": {},
   "outputs": [],
   "source": [
    "a = 'Life is too short \\n You need python'   # \\n=띄어쓰기"
   ]
  },
  {
   "cell_type": "code",
   "execution_count": 16,
   "id": "4414a919",
   "metadata": {},
   "outputs": [
    {
     "name": "stdout",
     "output_type": "stream",
     "text": [
      "Life is too short \n",
      " You need python\n"
     ]
    }
   ],
   "source": [
    "print(a)"
   ]
  },
  {
   "cell_type": "code",
   "execution_count": 19,
   "id": "c06b3e79",
   "metadata": {},
   "outputs": [],
   "source": [
    "a = \"\"\"Life is too short You need python\"\"\"  \n",
    "# \"\"\"\"\"\"를 사용하면 \\n를 쓰지 않아도 된다"
   ]
  },
  {
   "cell_type": "code",
   "execution_count": 20,
   "id": "24871e6b",
   "metadata": {},
   "outputs": [
    {
     "name": "stdout",
     "output_type": "stream",
     "text": [
      "Life is too short You need python\n"
     ]
    }
   ],
   "source": [
    "print(a)"
   ]
  },
  {
   "cell_type": "markdown",
   "id": "0f831202",
   "metadata": {},
   "source": [
    "문자열 더해서 연결하기(concatenation)"
   ]
  },
  {
   "cell_type": "code",
   "execution_count": 30,
   "id": "1c8e7f1e",
   "metadata": {},
   "outputs": [],
   "source": [
    "a = \"python\""
   ]
  },
  {
   "cell_type": "code",
   "execution_count": 31,
   "id": "f442af5d",
   "metadata": {},
   "outputs": [],
   "source": [
    "b = \" is fun!\""
   ]
  },
  {
   "cell_type": "code",
   "execution_count": 32,
   "id": "755777b1",
   "metadata": {},
   "outputs": [
    {
     "name": "stdout",
     "output_type": "stream",
     "text": [
      "python is fun!\n"
     ]
    }
   ],
   "source": [
    "print(a+b)"
   ]
  },
  {
   "cell_type": "code",
   "execution_count": 33,
   "id": "00cb4552",
   "metadata": {},
   "outputs": [
    {
     "name": "stdout",
     "output_type": "stream",
     "text": [
      "pythonpythonpythonpythonpythonpythonpythonpythonpythonpython\n"
     ]
    }
   ],
   "source": [
    "print(a*10)  # 문자열과 숫자열의 곱은 가능함"
   ]
  },
  {
   "cell_type": "code",
   "execution_count": 34,
   "id": "9a9ab3fc",
   "metadata": {},
   "outputs": [
    {
     "ename": "TypeError",
     "evalue": "can't multiply sequence by non-int of type 'str'",
     "output_type": "error",
     "traceback": [
      "\u001b[1;31m---------------------------------------------------------------------------\u001b[0m",
      "\u001b[1;31mTypeError\u001b[0m                                 Traceback (most recent call last)",
      "\u001b[1;32m~\\AppData\\Local\\Temp/ipykernel_16888/2818731505.py\u001b[0m in \u001b[0;36m<module>\u001b[1;34m\u001b[0m\n\u001b[1;32m----> 1\u001b[1;33m \u001b[0mprint\u001b[0m\u001b[1;33m(\u001b[0m\u001b[0ma\u001b[0m\u001b[1;33m*\u001b[0m\u001b[0mb\u001b[0m\u001b[1;33m)\u001b[0m\u001b[1;33m\u001b[0m\u001b[1;33m\u001b[0m\u001b[0m\n\u001b[0m",
      "\u001b[1;31mTypeError\u001b[0m: can't multiply sequence by non-int of type 'str'"
     ]
    }
   ],
   "source": [
    "print(a*b)  # string끼리의 계산할 수는 없음"
   ]
  },
  {
   "cell_type": "markdown",
   "id": "dc6b39bc",
   "metadata": {},
   "source": [
    "인덱싱(indexing)"
   ]
  },
  {
   "cell_type": "code",
   "execution_count": 35,
   "id": "8902a6f9",
   "metadata": {},
   "outputs": [],
   "source": [
    "a = \"Life is too short, You need Python\""
   ]
  },
  {
   "cell_type": "code",
   "execution_count": 36,
   "id": "78c188ed",
   "metadata": {
    "scrolled": true
   },
   "outputs": [
    {
     "name": "stdout",
     "output_type": "stream",
     "text": [
      "L\n"
     ]
    }
   ],
   "source": [
    "print(a[0])   "
   ]
  },
  {
   "cell_type": "code",
   "execution_count": 37,
   "id": "09402d4a",
   "metadata": {},
   "outputs": [
    {
     "name": "stdout",
     "output_type": "stream",
     "text": [
      "i\n"
     ]
    }
   ],
   "source": [
    "print(a[1])"
   ]
  },
  {
   "cell_type": "code",
   "execution_count": 38,
   "id": "3b4b7ac5",
   "metadata": {},
   "outputs": [
    {
     "name": "stdout",
     "output_type": "stream",
     "text": [
      "n\n"
     ]
    }
   ],
   "source": [
    "print(a[-1])     # (-)가 붙으면 거꾸로 간다"
   ]
  },
  {
   "cell_type": "markdown",
   "id": "9573ddf3",
   "metadata": {},
   "source": [
    "- 각 글자에 인덱싱이 매겨져있어 숫자를 넣으면 그에 해당하는 값이 나옴\n",
    "- 이떄, 파이썬은 0부터 숫자를 센다"
   ]
  },
  {
   "cell_type": "markdown",
   "id": "0f1c8cd8",
   "metadata": {},
   "source": [
    "슬라이싱(slicing) : 범위에 맞게 문자를 자른다\n",
    "구조 = a [ 이상 : 미만 : 간격]"
   ]
  },
  {
   "cell_type": "code",
   "execution_count": 39,
   "id": "a9a251f0",
   "metadata": {},
   "outputs": [],
   "source": [
    "a = \"Life is too short, You need Python\""
   ]
  },
  {
   "cell_type": "code",
   "execution_count": 40,
   "id": "c030ef61",
   "metadata": {},
   "outputs": [
    {
     "name": "stdout",
     "output_type": "stream",
     "text": [
      "Life\n"
     ]
    }
   ],
   "source": [
    "print(a[0:4])"
   ]
  },
  {
   "cell_type": "code",
   "execution_count": 45,
   "id": "5ecf8f27",
   "metadata": {},
   "outputs": [],
   "source": [
    "a = \"20010331Rainy\""
   ]
  },
  {
   "cell_type": "code",
   "execution_count": 46,
   "id": "1446267e",
   "metadata": {},
   "outputs": [
    {
     "name": "stdout",
     "output_type": "stream",
     "text": [
      "20010331\n"
     ]
    }
   ],
   "source": [
    "print(a[:8])    # 범위에서 빈칸인 경우 무조건 처음부터 출력"
   ]
  },
  {
   "cell_type": "code",
   "execution_count": 47,
   "id": "9093865b",
   "metadata": {
    "scrolled": true
   },
   "outputs": [
    {
     "name": "stdout",
     "output_type": "stream",
     "text": [
      "Rainy\n"
     ]
    }
   ],
   "source": [
    "print(a[8:])   # 8부터 시작해서 끝까지 출력"
   ]
  },
  {
   "cell_type": "code",
   "execution_count": 48,
   "id": "d7a1c2ab",
   "metadata": {},
   "outputs": [],
   "source": [
    "a = \"12345678\""
   ]
  },
  {
   "cell_type": "code",
   "execution_count": 49,
   "id": "784978bd",
   "metadata": {},
   "outputs": [
    {
     "name": "stdout",
     "output_type": "stream",
     "text": [
      "2468\n"
     ]
    }
   ],
   "source": [
    "print(a[1::2]) "
   ]
  },
  {
   "cell_type": "markdown",
   "id": "8b0e489c",
   "metadata": {},
   "source": [
    "참고) s[ : : -1 ]  # 처음부터 끝까지 뒤로 한칸씩 읽어라"
   ]
  },
  {
   "cell_type": "markdown",
   "id": "3a9d1096",
   "metadata": {},
   "source": [
    "문자열 포매팅(f)"
   ]
  },
  {
   "cell_type": "code",
   "execution_count": 50,
   "id": "bbf83e46",
   "metadata": {},
   "outputs": [],
   "source": [
    "a = \"I eat %d apples.\"  %3"
   ]
  },
  {
   "cell_type": "code",
   "execution_count": 55,
   "id": "aad9e9d0",
   "metadata": {},
   "outputs": [],
   "source": [
    "b = \"I eat\"+ str(3) + \"apples\"    #str(): 숫자형을 문자형으로 변환"
   ]
  },
  {
   "cell_type": "code",
   "execution_count": 56,
   "id": "ae83bc73",
   "metadata": {},
   "outputs": [
    {
     "name": "stdout",
     "output_type": "stream",
     "text": [
      "I eat 3 apples.\n"
     ]
    }
   ],
   "source": [
    "print(a)"
   ]
  },
  {
   "cell_type": "code",
   "execution_count": 57,
   "id": "47e68c4f",
   "metadata": {
    "scrolled": true
   },
   "outputs": [
    {
     "name": "stdout",
     "output_type": "stream",
     "text": [
      "I eat3apples\n"
     ]
    }
   ],
   "source": [
    "print(b)"
   ]
  },
  {
   "cell_type": "code",
   "execution_count": 62,
   "id": "3cfceb36",
   "metadata": {},
   "outputs": [],
   "source": [
    "name = \"int\""
   ]
  },
  {
   "cell_type": "code",
   "execution_count": 63,
   "id": "7d6e49b4",
   "metadata": {},
   "outputs": [],
   "source": [
    "a = f\"나의 이름은 {name}입니다\""
   ]
  },
  {
   "cell_type": "code",
   "execution_count": 64,
   "id": "33235f9f",
   "metadata": {},
   "outputs": [
    {
     "name": "stdout",
     "output_type": "stream",
     "text": [
      "나의 이름은 int입니다\n"
     ]
    }
   ],
   "source": [
    "print(a)"
   ]
  },
  {
   "cell_type": "code",
   "execution_count": 58,
   "id": "63557832",
   "metadata": {},
   "outputs": [],
   "source": [
    "# 2개 이상의 숫자를 넣어야 하는 경우\n",
    "\n",
    "number = 10\n",
    "day = \"three\"\n",
    "a = \"I ate %d apples. so I was sick for %s days.\" % (number, day)"
   ]
  },
  {
   "cell_type": "code",
   "execution_count": 59,
   "id": "d6cb6bff",
   "metadata": {},
   "outputs": [
    {
     "name": "stdout",
     "output_type": "stream",
     "text": [
      "I ate 10 apples. so I was sick for three days.\n"
     ]
    }
   ],
   "source": [
    "print(a)"
   ]
  },
  {
   "cell_type": "markdown",
   "id": "e609b44e",
   "metadata": {},
   "source": [
    "소수점 표현"
   ]
  },
  {
   "cell_type": "code",
   "execution_count": 60,
   "id": "5c930f2c",
   "metadata": {},
   "outputs": [],
   "source": [
    "a = \"%0.4f\" % 3.42134234      \n",
    "# 소수점 몇번째 자리에서 자를지 이때, 0은 띄어쓰기자리수를 의미"
   ]
  },
  {
   "cell_type": "code",
   "execution_count": 61,
   "id": "60383b87",
   "metadata": {},
   "outputs": [
    {
     "name": "stdout",
     "output_type": "stream",
     "text": [
      "3.4213\n"
     ]
    }
   ],
   "source": [
    "print(a)        "
   ]
  },
  {
   "cell_type": "markdown",
   "id": "594fbaef",
   "metadata": {},
   "source": [
    "문자열 개수 세기(count)"
   ]
  },
  {
   "cell_type": "code",
   "execution_count": 68,
   "id": "f337a05d",
   "metadata": {},
   "outputs": [],
   "source": [
    "a = \"hobby\""
   ]
  },
  {
   "cell_type": "code",
   "execution_count": 69,
   "id": "a9e5a680",
   "metadata": {},
   "outputs": [
    {
     "name": "stdout",
     "output_type": "stream",
     "text": [
      "2\n"
     ]
    }
   ],
   "source": [
    "print(a.count('b'))  # hobby라는 글자에 b가 몇개 들어가 있는가"
   ]
  },
  {
   "cell_type": "markdown",
   "id": "9b2bd430",
   "metadata": {},
   "source": [
    "위치 알려주가(find)"
   ]
  },
  {
   "cell_type": "code",
   "execution_count": 70,
   "id": "8e7371ad",
   "metadata": {},
   "outputs": [],
   "source": [
    "a = \"hobby\""
   ]
  },
  {
   "cell_type": "code",
   "execution_count": 71,
   "id": "df94de30",
   "metadata": {},
   "outputs": [
    {
     "name": "stdout",
     "output_type": "stream",
     "text": [
      "2\n"
     ]
    }
   ],
   "source": [
    "print(a.find('b'))    # 가장 처음나온 b의 인덱싱을 출력"
   ]
  },
  {
   "cell_type": "markdown",
   "id": "1c45a464",
   "metadata": {},
   "source": [
    "문자열 삽입(join)"
   ]
  },
  {
   "cell_type": "code",
   "execution_count": 74,
   "id": "6a659834",
   "metadata": {},
   "outputs": [],
   "source": [
    "a = \",\""
   ]
  },
  {
   "cell_type": "code",
   "execution_count": 75,
   "id": "59493a1f",
   "metadata": {},
   "outputs": [
    {
     "data": {
      "text/plain": [
       "'a,b,c,d'"
      ]
     },
     "execution_count": 75,
     "metadata": {},
     "output_type": "execute_result"
    }
   ],
   "source": [
    "a.join('abcd')"
   ]
  },
  {
   "cell_type": "code",
   "execution_count": 72,
   "id": "6f6bc7a2",
   "metadata": {},
   "outputs": [],
   "source": [
    "a = \",\".join([\"a\",\"b\",\"c\"])"
   ]
  },
  {
   "cell_type": "code",
   "execution_count": 73,
   "id": "4b138ab7",
   "metadata": {},
   "outputs": [
    {
     "name": "stdout",
     "output_type": "stream",
     "text": [
      "a,b,c\n"
     ]
    }
   ],
   "source": [
    "print(a)"
   ]
  },
  {
   "cell_type": "markdown",
   "id": "f3499efc",
   "metadata": {},
   "source": [
    "문자열 바꾸기(replace)"
   ]
  },
  {
   "cell_type": "code",
   "execution_count": 80,
   "id": "a15621a4",
   "metadata": {},
   "outputs": [],
   "source": [
    "a = \"Life is too short\""
   ]
  },
  {
   "cell_type": "code",
   "execution_count": 81,
   "id": "73cf7a99",
   "metadata": {},
   "outputs": [
    {
     "data": {
      "text/plain": [
       "'Your leg is too short'"
      ]
     },
     "execution_count": 81,
     "metadata": {},
     "output_type": "execute_result"
    }
   ],
   "source": [
    "a.replace(\"Life\", \"Your leg\") "
   ]
  },
  {
   "cell_type": "markdown",
   "id": "8bb968ef",
   "metadata": {},
   "source": [
    "문자열 나누기(split)"
   ]
  },
  {
   "cell_type": "code",
   "execution_count": 76,
   "id": "5d60c470",
   "metadata": {},
   "outputs": [],
   "source": [
    "a = \"Life is too short\""
   ]
  },
  {
   "cell_type": "code",
   "execution_count": 77,
   "id": "f71a8769",
   "metadata": {},
   "outputs": [
    {
     "data": {
      "text/plain": [
       "['Life', 'is', 'too', 'short']"
      ]
     },
     "execution_count": 77,
     "metadata": {},
     "output_type": "execute_result"
    }
   ],
   "source": [
    "a.split()"
   ]
  },
  {
   "cell_type": "code",
   "execution_count": 78,
   "id": "6736c86a",
   "metadata": {},
   "outputs": [],
   "source": [
    "a = \"a:b:c:d\""
   ]
  },
  {
   "cell_type": "code",
   "execution_count": 79,
   "id": "7db27ba9",
   "metadata": {},
   "outputs": [
    {
     "data": {
      "text/plain": [
       "['a', 'b', 'c', 'd']"
      ]
     },
     "execution_count": 79,
     "metadata": {},
     "output_type": "execute_result"
    }
   ],
   "source": [
    "a.split(\":\")"
   ]
  },
  {
   "cell_type": "code",
   "execution_count": 83,
   "id": "d81a74a2",
   "metadata": {},
   "outputs": [],
   "source": [
    "a = \"saaf-123-sgrt-123\""
   ]
  },
  {
   "cell_type": "code",
   "execution_count": 85,
   "id": "cd4b36a1",
   "metadata": {},
   "outputs": [
    {
     "name": "stdout",
     "output_type": "stream",
     "text": [
      "sgrt\n"
     ]
    }
   ],
   "source": [
    "print(a.split(\"-\")[2])"
   ]
  },
  {
   "cell_type": "markdown",
   "id": "74488f6f",
   "metadata": {},
   "source": [
    "# 02-3 리스트 자료형\n",
    "-숫자자료와 문자자료를 섞어서 사용 가능함\n",
    "-리스트 안에 리스트를 넣을 수 있음"
   ]
  },
  {
   "cell_type": "markdown",
   "id": "1c9af6f0",
   "metadata": {},
   "source": [
    "a = []\n",
    "b = [1,2,3]\n",
    "c = ['Life','is','too','short']\n",
    "d = [1,2,'Life','is']\n",
    "e = [1,2,['Life','is']]"
   ]
  },
  {
   "cell_type": "markdown",
   "id": "89b66652",
   "metadata": {},
   "source": [
    "리스트의 인덱싱"
   ]
  },
  {
   "cell_type": "code",
   "execution_count": 87,
   "id": "a7bb1066",
   "metadata": {},
   "outputs": [],
   "source": [
    "a = [1,2,3]"
   ]
  },
  {
   "cell_type": "code",
   "execution_count": 88,
   "id": "571c4dd6",
   "metadata": {},
   "outputs": [
    {
     "data": {
      "text/plain": [
       "1"
      ]
     },
     "execution_count": 88,
     "metadata": {},
     "output_type": "execute_result"
    }
   ],
   "source": [
    "a[0]"
   ]
  },
  {
   "cell_type": "code",
   "execution_count": 89,
   "id": "8ca53247",
   "metadata": {},
   "outputs": [
    {
     "data": {
      "text/plain": [
       "4"
      ]
     },
     "execution_count": 89,
     "metadata": {},
     "output_type": "execute_result"
    }
   ],
   "source": [
    "a[0]+a[2]"
   ]
  },
  {
   "cell_type": "code",
   "execution_count": 90,
   "id": "f99f4cc2",
   "metadata": {},
   "outputs": [
    {
     "data": {
      "text/plain": [
       "3"
      ]
     },
     "execution_count": 90,
     "metadata": {},
     "output_type": "execute_result"
    }
   ],
   "source": [
    "a[-1]  #(-)가 붙으면 역순"
   ]
  },
  {
   "cell_type": "markdown",
   "id": "5084e5ba",
   "metadata": {},
   "source": [
    "리스트 더하기 : 하나의 리스트가 생성\n",
    "리스트 곱하기 : 곱한 숫자만큼 리스트의 반복\n",
    "리스트 인수끼리의 더하기 가능"
   ]
  },
  {
   "cell_type": "code",
   "execution_count": 91,
   "id": "e90c7b62",
   "metadata": {},
   "outputs": [],
   "source": [
    "a = [1,2,3]\n",
    "b = [4,5,6]"
   ]
  },
  {
   "cell_type": "code",
   "execution_count": 92,
   "id": "8a4c8a5e",
   "metadata": {},
   "outputs": [
    {
     "name": "stdout",
     "output_type": "stream",
     "text": [
      "[1, 2, 3, 4, 5, 6]\n"
     ]
    }
   ],
   "source": [
    "print(a+b)"
   ]
  },
  {
   "cell_type": "code",
   "execution_count": 93,
   "id": "996ead9c",
   "metadata": {},
   "outputs": [
    {
     "name": "stdout",
     "output_type": "stream",
     "text": [
      "[1, 2, 3, 1, 2, 3, 1, 2, 3]\n"
     ]
    }
   ],
   "source": [
    "print(a*3)"
   ]
  },
  {
   "cell_type": "markdown",
   "id": "c60bf9c8",
   "metadata": {},
   "source": [
    "리스트에서 하나의 값 수정하기\n",
    "리스트에서 연속된 범위의 값 수정하기: [ : ]사용"
   ]
  },
  {
   "cell_type": "code",
   "execution_count": 98,
   "id": "ebe66515",
   "metadata": {},
   "outputs": [],
   "source": [
    "a = [1,2,3]"
   ]
  },
  {
   "cell_type": "code",
   "execution_count": 99,
   "id": "f2588991",
   "metadata": {},
   "outputs": [],
   "source": [
    "a[1:2] = ['a','b','c']"
   ]
  },
  {
   "cell_type": "code",
   "execution_count": 100,
   "id": "9581542f",
   "metadata": {},
   "outputs": [
    {
     "name": "stdout",
     "output_type": "stream",
     "text": [
      "[1, 'a', 'b', 'c', 3]\n"
     ]
    }
   ],
   "source": [
    "print(a)"
   ]
  },
  {
   "cell_type": "markdown",
   "id": "92fc35ea",
   "metadata": {},
   "source": [
    "[]를 사용해 리스트 요소 삭제"
   ]
  },
  {
   "cell_type": "code",
   "execution_count": 94,
   "id": "bcdbc1fe",
   "metadata": {},
   "outputs": [],
   "source": [
    "a = [1, 'a', 'b', 'c', 3, 4]"
   ]
  },
  {
   "cell_type": "code",
   "execution_count": 95,
   "id": "2581b813",
   "metadata": {},
   "outputs": [],
   "source": [
    "a[1:3]=[]    # 값을 삭제하겠음"
   ]
  },
  {
   "cell_type": "code",
   "execution_count": 96,
   "id": "98893d79",
   "metadata": {},
   "outputs": [
    {
     "name": "stdout",
     "output_type": "stream",
     "text": [
      "[1, 'c', 3, 4]\n"
     ]
    }
   ],
   "source": [
    "print(a)"
   ]
  },
  {
   "cell_type": "markdown",
   "id": "976f9110",
   "metadata": {},
   "source": [
    "리스트의 함수들\n",
    "-리스트에 요소 추가(append) : 리스트의 마지막에 추가\n",
    "-리스트 정렬(sort) :  문자는 알파벳, 한글 순서로/ \n",
    "                     숫자는 숫자의 크기순으로(오름차순정렬: 숫자 점점 커짐)\n",
    "-리스트 뒤집기(reverse)\n",
    "-위치 반환(index)\n",
    "-리스트에 요소 삽입(insert) : 특정 위치에 삽입이 가능\n",
    "-리스트에 요소 제거(remove) : 가장 처음의 것만 제거됨\n",
    "-리스트 요소 끄집어내기(pop) : 리스트의 마지막 요소를 빼내기\n",
    "-리스트에 포함된 요소 X의 개수 세기(count) : 리스트 안의 X의 개수 세기\n",
    "-리스트 확장하기(extend) : 리스트 안에 숫자를 추가하여 리스트 늘이기"
   ]
  },
  {
   "cell_type": "markdown",
   "id": "073959bb",
   "metadata": {},
   "source": [
    "문장의 소문자를 대문자로 바꾸기-1) split, slicing, upper 사용\n",
    "                                2) split, slicing, replace 사용"
   ]
  },
  {
   "cell_type": "code",
   "execution_count": 119,
   "id": "0a20ef34",
   "metadata": {},
   "outputs": [],
   "source": [
    "a = \"i study python with jocoding\""
   ]
  },
  {
   "cell_type": "code",
   "execution_count": 120,
   "id": "e0c85599",
   "metadata": {},
   "outputs": [
    {
     "data": {
      "text/plain": [
       "'i'"
      ]
     },
     "execution_count": 120,
     "metadata": {},
     "output_type": "execute_result"
    }
   ],
   "source": [
    "a.split()[0]"
   ]
  },
  {
   "cell_type": "code",
   "execution_count": 121,
   "id": "1df968bc",
   "metadata": {},
   "outputs": [
    {
     "name": "stdout",
     "output_type": "stream",
     "text": [
      "I study python with jocoding\n"
     ]
    }
   ],
   "source": [
    "print(a.split()[0].upper()+a[1:])"
   ]
  },
  {
   "cell_type": "code",
   "execution_count": 123,
   "id": "4ecd6b05",
   "metadata": {},
   "outputs": [
    {
     "name": "stdout",
     "output_type": "stream",
     "text": [
      "I study python with jocoding\n"
     ]
    }
   ],
   "source": [
    "print(a.split()[0].replace(\"i\",\"I\")+a[1:])"
   ]
  },
  {
   "cell_type": "code",
   "execution_count": null,
   "id": "57f040b4",
   "metadata": {},
   "outputs": [],
   "source": []
  },
  {
   "cell_type": "code",
   "execution_count": null,
   "id": "10eebe32",
   "metadata": {},
   "outputs": [],
   "source": []
  }
 ],
 "metadata": {
  "kernelspec": {
   "display_name": "Python 3 (ipykernel)",
   "language": "python",
   "name": "python3"
  },
  "language_info": {
   "codemirror_mode": {
    "name": "ipython",
    "version": 3
   },
   "file_extension": ".py",
   "mimetype": "text/x-python",
   "name": "python",
   "nbconvert_exporter": "python",
   "pygments_lexer": "ipython3",
   "version": "3.9.7"
  }
 },
 "nbformat": 4,
 "nbformat_minor": 5
}
